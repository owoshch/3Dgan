{
 "cells": [
  {
   "cell_type": "code",
   "execution_count": 1,
   "metadata": {},
   "outputs": [
    {
     "name": "stderr",
     "output_type": "stream",
     "text": [
      "Using TensorFlow backend.\n"
     ]
    }
   ],
   "source": [
    "#from __future__ import print_function\n",
    "from os import path\n",
    "#import ROOT\n",
    "import h5py\n",
    "import pickle\n",
    "import numpy as np\n",
    "import keras.backend as K\n",
    "import tensorflow as tf\n",
    "#import tensorflow.python.ops.image_ops_impl as image \n",
    "import time\n",
    "import sys\n",
    "sys.path.insert(0,'./')\n",
    "sys.path.insert(0,'./analysis')\n",
    "import utils.GANutils as gan\n",
    "#import utils.ROOTutils as roo\n",
    "from skimage import measure\n",
    "import math\n",
    "from AngleArch3dGAN import generator, discriminator\n",
    "try:\n",
    "    import setGPU\n",
    "except:\n",
    "    pass"
   ]
  },
  {
   "cell_type": "code",
   "execution_count": 2,
   "metadata": {},
   "outputs": [],
   "source": [
    "%matplotlib inline\n",
    "import numpy as np\n",
    "import matplotlib.pyplot as plt\n",
    "from mpl_toolkits import mplot3d"
   ]
  },
  {
   "cell_type": "markdown",
   "metadata": {},
   "source": [
    "# Parameters"
   ]
  },
  {
   "cell_type": "code",
   "execution_count": 3,
   "metadata": {},
   "outputs": [],
   "source": [
    "latent = 500  #latent space\n",
    "power = 0.85    #power for cell energies used in training\n",
    "thresh = 0.0   #threshold used\n",
    "get_shuffled = True # whether to make plots for shuffled\n",
    "labels = [\"G4\", \"GAN\"] # labels\n",
    "outdir = 'results/GANevents' # dir for results\n",
    "gan.safe_mkdir(outdir) \n",
    "energies = [0, 110, 150, 190]# energy bins\n",
    "angles = [62, 90, 118]"
   ]
  },
  {
   "cell_type": "markdown",
   "metadata": {},
   "source": [
    "# Initialize generator and load weights"
   ]
  },
  {
   "cell_type": "code",
   "execution_count": 4,
   "metadata": {
    "scrolled": true
   },
   "outputs": [
    {
     "name": "stdout",
     "output_type": "stream",
     "text": [
      "_________________________________________________________________\n",
      "Layer (type)                 Output Shape              Param #   \n",
      "=================================================================\n",
      "dense_1 (Dense)              (None, 5184)              2597184   \n",
      "_________________________________________________________________\n",
      "reshape_1 (Reshape)          (None, 9, 9, 8, 8)        0         \n",
      "_________________________________________________________________\n",
      "up_sampling3d_1 (UpSampling3 (None, 54, 54, 48, 8)     0         \n",
      "_________________________________________________________________\n",
      "conv3d_1 (Conv3D)            (None, 49, 49, 41, 8)     18440     \n",
      "_________________________________________________________________\n",
      "activation_1 (Activation)    (None, 49, 49, 41, 8)     0         \n",
      "_________________________________________________________________\n",
      "batch_normalization_1 (Batch (None, 49, 49, 41, 8)     32        \n",
      "_________________________________________________________________\n",
      "zero_padding3d_1 (ZeroPaddin (None, 53, 53, 43, 8)     0         \n",
      "_________________________________________________________________\n",
      "conv3d_2 (Conv3D)            (None, 50, 50, 38, 6)     4614      \n",
      "_________________________________________________________________\n",
      "activation_2 (Activation)    (None, 50, 50, 38, 6)     0         \n",
      "_________________________________________________________________\n",
      "batch_normalization_2 (Batch (None, 50, 50, 38, 6)     24        \n",
      "_________________________________________________________________\n",
      "zero_padding3d_2 (ZeroPaddin (None, 54, 54, 40, 6)     0         \n",
      "_________________________________________________________________\n",
      "conv3d_3 (Conv3D)            (None, 51, 51, 35, 6)     3462      \n",
      "_________________________________________________________________\n",
      "activation_3 (Activation)    (None, 51, 51, 35, 6)     0         \n",
      "_________________________________________________________________\n",
      "batch_normalization_3 (Batch (None, 51, 51, 35, 6)     24        \n",
      "_________________________________________________________________\n",
      "zero_padding3d_3 (ZeroPaddin (None, 55, 55, 37, 6)     0         \n",
      "_________________________________________________________________\n",
      "conv3d_4 (Conv3D)            (None, 52, 52, 32, 6)     3462      \n",
      "_________________________________________________________________\n",
      "activation_4 (Activation)    (None, 52, 52, 32, 6)     0         \n",
      "_________________________________________________________________\n",
      "batch_normalization_4 (Batch (None, 52, 52, 32, 6)     24        \n",
      "_________________________________________________________________\n",
      "zero_padding3d_4 (ZeroPaddin (None, 54, 54, 32, 6)     0         \n",
      "_________________________________________________________________\n",
      "conv3d_5 (Conv3D)            (None, 52, 52, 28, 6)     1626      \n",
      "_________________________________________________________________\n",
      "activation_5 (Activation)    (None, 52, 52, 28, 6)     0         \n",
      "_________________________________________________________________\n",
      "batch_normalization_5 (Batch (None, 52, 52, 28, 6)     24        \n",
      "_________________________________________________________________\n",
      "zero_padding3d_5 (ZeroPaddin (None, 54, 54, 28, 6)     0         \n",
      "_________________________________________________________________\n",
      "conv3d_6 (Conv3D)            (None, 52, 52, 26, 6)     978       \n",
      "_________________________________________________________________\n",
      "activation_6 (Activation)    (None, 52, 52, 26, 6)     0         \n",
      "_________________________________________________________________\n",
      "conv3d_7 (Conv3D)            (None, 51, 51, 25, 1)     49        \n",
      "_________________________________________________________________\n",
      "activation_7 (Activation)    (None, 51, 51, 25, 1)     0         \n",
      "=================================================================\n",
      "Total params: 2,629,943\n",
      "Trainable params: 2,629,879\n",
      "Non-trainable params: 64\n",
      "_________________________________________________________________\n",
      "_________________________________________________________________\n",
      "Layer (type)                 Output Shape              Param #   \n",
      "=================================================================\n",
      "input_1 (InputLayer)         (None, 500)               0         \n",
      "_________________________________________________________________\n",
      "sequential_1 (Sequential)    (None, 51, 51, 25, 1)     2629943   \n",
      "=================================================================\n",
      "Total params: 2,629,943\n",
      "Trainable params: 2,629,879\n",
      "Non-trainable params: 64\n",
      "_________________________________________________________________\n"
     ]
    },
    {
     "name": "stderr",
     "output_type": "stream",
     "text": [
      "./AngleArch3dGAN.py:196: UserWarning: Update your `Model` call to the Keras 2 API: `Model(inputs=[<tf.Tenso..., outputs=[<tf.Tenso...)`\n",
      "  Model(input=[latent], output=[fake_image]).summary()\n",
      "./AngleArch3dGAN.py:197: UserWarning: Update your `Model` call to the Keras 2 API: `Model(inputs=[<tf.Tenso..., outputs=[<tf.Tenso...)`\n",
      "  return Model(input=[latent], output=[fake_image])\n"
     ]
    }
   ],
   "source": [
    "g = generator(latent)  "
   ]
  },
  {
   "cell_type": "code",
   "execution_count": 5,
   "metadata": {},
   "outputs": [],
   "source": [
    "gen_weight = \"./weights/params_generator_epoch_123.hdf5\""
   ]
  },
  {
   "cell_type": "code",
   "execution_count": 6,
   "metadata": {},
   "outputs": [],
   "source": [
    "g.load_weights(gen_weight) # load weights"
   ]
  },
  {
   "cell_type": "markdown",
   "metadata": {},
   "source": [
    "# Sample generation"
   ]
  },
  {
   "cell_type": "markdown",
   "metadata": {},
   "source": [
    "### Possible energies: 0, 110, 150, 190 \n",
    "### Possible angles: 62, 90, 118"
   ]
  },
  {
   "cell_type": "raw",
   "metadata": {},
   "source": [
    "state_dict structure:\n",
    "... energy\n",
    "... ...... angle\n",
    "... ...... ..... perergy\n",
    "... ...... ..... theta"
   ]
  },
  {
   "cell_type": "code",
   "execution_count": 7,
   "metadata": {},
   "outputs": [],
   "source": [
    "with open('state_dict.p', 'rb') as fp:\n",
    "    state_dict = pickle.load(fp)"
   ]
  },
  {
   "cell_type": "code",
   "execution_count": 8,
   "metadata": {},
   "outputs": [
    {
     "data": {
      "text/plain": [
       "[0, 110, 150, 190]"
      ]
     },
     "execution_count": 8,
     "metadata": {},
     "output_type": "execute_result"
    }
   ],
   "source": [
    "energies"
   ]
  },
  {
   "cell_type": "code",
   "execution_count": 9,
   "metadata": {},
   "outputs": [
    {
     "data": {
      "text/plain": [
       "[62, 90, 118]"
      ]
     },
     "execution_count": 9,
     "metadata": {},
     "output_type": "execute_result"
    }
   ],
   "source": [
    "angles"
   ]
  },
  {
   "cell_type": "code",
   "execution_count": 10,
   "metadata": {},
   "outputs": [],
   "source": [
    "energy = energies[0] \n",
    "a = angles[0]"
   ]
  },
  {
   "cell_type": "code",
   "execution_count": 11,
   "metadata": {},
   "outputs": [
    {
     "name": "stdout",
     "output_type": "stream",
     "text": [
      "Sample energy %s, sample angle %s\n"
     ]
    }
   ],
   "source": [
    "print (\"Sample energy %s, sample angle %s\", )"
   ]
  },
  {
   "cell_type": "code",
   "execution_count": 12,
   "metadata": {},
   "outputs": [],
   "source": [
    "penergy = state_dict[energy][a]['penergy']"
   ]
  },
  {
   "cell_type": "code",
   "execution_count": 13,
   "metadata": {},
   "outputs": [],
   "source": [
    "theta = state_dict[energy][a]['theta']"
   ]
  },
  {
   "cell_type": "code",
   "execution_count": 14,
   "metadata": {},
   "outputs": [
    {
     "data": {
      "text/plain": [
       "589"
      ]
     },
     "execution_count": 14,
     "metadata": {},
     "output_type": "execute_result"
    }
   ],
   "source": [
    "len(penergy)"
   ]
  },
  {
   "cell_type": "code",
   "execution_count": 15,
   "metadata": {},
   "outputs": [
    {
     "name": "stdout",
     "output_type": "stream",
     "text": [
      "Number of available states for these energy and angle is 589\n"
     ]
    }
   ],
   "source": [
    "print (\"Number of available states for these energy and angle is %s\" % len(penergy))"
   ]
  },
  {
   "cell_type": "markdown",
   "metadata": {},
   "source": [
    "# Generate single 3D image"
   ]
  },
  {
   "cell_type": "code",
   "execution_count": 16,
   "metadata": {},
   "outputs": [],
   "source": [
    "np.random.seed(42) # for reproductivity"
   ]
  },
  {
   "cell_type": "code",
   "execution_count": 17,
   "metadata": {},
   "outputs": [
    {
     "name": "stdout",
     "output_type": "stream",
     "text": [
      "Sample index 102\n"
     ]
    }
   ],
   "source": [
    "i = np.random.randint(0, len(penergy), 1)\n",
    "print (\"Sample index %s\" % i[0])\n",
    "generated_images = gan.generate(g, 1, [penergy[i]/100., theta[i]], latent, concat=1)"
   ]
  },
  {
   "cell_type": "code",
   "execution_count": 18,
   "metadata": {},
   "outputs": [
    {
     "name": "stdout",
     "output_type": "stream",
     "text": [
      "Energy [1.6877807], Angle [1.0852622]\n"
     ]
    }
   ],
   "source": [
    "print (\"Energy %s, Angle %s\" % (penergy[i]/100., theta[i]))"
   ]
  },
  {
   "cell_type": "code",
   "execution_count": 19,
   "metadata": {},
   "outputs": [
    {
     "data": {
      "text/plain": [
       "(1, 51, 51, 25, 1)"
      ]
     },
     "execution_count": 19,
     "metadata": {},
     "output_type": "execute_result"
    }
   ],
   "source": [
    "generated_images.shape"
   ]
  },
  {
   "cell_type": "code",
   "execution_count": 20,
   "metadata": {},
   "outputs": [],
   "source": [
    "# post processing\n",
    "generated_images = np.power(generated_images, 1./power)"
   ]
  },
  {
   "cell_type": "markdown",
   "metadata": {},
   "source": [
    "# Show plots"
   ]
  },
  {
   "cell_type": "code",
   "execution_count": 21,
   "metadata": {},
   "outputs": [
    {
     "data": {
      "image/png": "[encoded data removed]",
      "text/plain": [
       "<Figure size 432x288 with 1 Axes>"
      ]
     },
     "metadata": {
      "needs_background": "light"
     },
     "output_type": "display_data"
    },
    {
     "data": {
      "image/png": "[encoded data removed]",
      "text/plain": [
       "<Figure size 432x288 with 1 Axes>"
      ]
     },
     "metadata": {
      "needs_background": "light"
     },
     "output_type": "display_data"
    },
    {
     "data": {
      "image/png": "[encoded data removed]",
      "text/plain": [
       "<Figure size 432x288 with 1 Axes>"
      ]
     },
     "metadata": {
      "needs_background": "light"
     },
     "output_type": "display_data"
    },
    {
     "data": {
      "image/png": "[encoded data removed]",
      "text/plain": [
       "<Figure size 432x288 with 1 Axes>"
      ]
     },
     "metadata": {
      "needs_background": "light"
     },
     "output_type": "display_data"
    },
    {
     "data": {
      "image/png": "[encoded data removed]",
      "text/plain": [
       "<Figure size 432x288 with 1 Axes>"
      ]
     },
     "metadata": {
      "needs_background": "light"
     },
     "output_type": "display_data"
    },
    {
     "data": {
      "image/png": "[encoded data removed]",
      "text/plain": [
       "<Figure size 432x288 with 1 Axes>"
      ]
     },
     "metadata": {
      "needs_background": "light"
     },
     "output_type": "display_data"
    },
    {
     "data": {
      "image/png": "[encoded data removed]",
      "text/plain": [
       "<Figure size 432x288 with 1 Axes>"
      ]
     },
     "metadata": {
      "needs_background": "light"
     },
     "output_type": "display_data"
    },
    {
     "data": {
      "image/png": "[encoded data removed]",
      "text/plain": [
       "<Figure size 432x288 with 1 Axes>"
      ]
     },
     "metadata": {
      "needs_background": "light"
     },
     "output_type": "display_data"
    },
    {
     "data": {
      "image/png": "[encoded data removed]",
      "text/plain": [
       "<Figure size 432x288 with 1 Axes>"
      ]
     },
     "metadata": {
      "needs_background": "light"
     },
     "output_type": "display_data"
    },
    {
     "data": {
      "image/png": "[encoded data removed]",
      "text/plain": [
       "<Figure size 432x288 with 1 Axes>"
      ]
     },
     "metadata": {
      "needs_background": "light"
     },
     "output_type": "display_data"
    },
    {
     "data": {
      "image/png": "[encoded data removed]",
      "text/plain": [
       "<Figure size 432x288 with 1 Axes>"
      ]
     },
     "metadata": {
      "needs_background": "light"
     },
     "output_type": "display_data"
    },
    {
     "data": {
      "image/png": "[encoded data removed]",
      "text/plain": [
       "<Figure size 432x288 with 1 Axes>"
      ]
     },
     "metadata": {
      "needs_background": "light"
     },
     "output_type": "display_data"
    },
    {
     "data": {
      "image/png": "[encoded data removed]",
      "text/plain": [
       "<Figure size 432x288 with 1 Axes>"
      ]
     },
     "metadata": {
      "needs_background": "light"
     },
     "output_type": "display_data"
    },
    {
     "data": {
      "image/png": "[encoded data removed]",
      "text/plain": [
       "<Figure size 432x288 with 1 Axes>"
      ]
     },
     "metadata": {
      "needs_background": "light"
     },
     "output_type": "display_data"
    },
    {
     "data": {
      "image/png": "[encoded data removed]",
      "text/plain": [
       "<Figure size 432x288 with 1 Axes>"
      ]
     },
     "metadata": {
      "needs_background": "light"
     },
     "output_type": "display_data"
    },
    {
     "data": {
      "image/png": "[encoded data removed]",
      "text/plain": [
       "<Figure size 432x288 with 1 Axes>"
      ]
     },
     "metadata": {
      "needs_background": "light"
     },
     "output_type": "display_data"
    },
    {
     "data": {
      "image/png": "[encoded data removed]",
      "text/plain": [
       "<Figure size 432x288 with 1 Axes>"
      ]
     },
     "metadata": {
      "needs_background": "light"
     },
     "output_type": "display_data"
    },
    {
     "data": {
      "image/png": "[encoded data removed]",
      "text/plain": [
       "<Figure size 432x288 with 1 Axes>"
      ]
     },
     "metadata": {
      "needs_background": "light"
     },
     "output_type": "display_data"
    },
    {
     "data": {
      "image/png": "[encoded data removed]",
      "text/plain": [
       "<Figure size 432x288 with 1 Axes>"
      ]
     },
     "metadata": {
      "needs_background": "light"
     },
     "output_type": "display_data"
    },
    {
     "data": {
      "image/png": "[encoded data removed]",
      "text/plain": [
       "<Figure size 432x288 with 1 Axes>"
      ]
     },
     "metadata": {
      "needs_background": "light"
     },
     "output_type": "display_data"
    },
    {
     "data": {
      "image/png": "[encoded data removed]",
      "text/plain": [
       "<Figure size 432x288 with 1 Axes>"
      ]
     },
     "metadata": {
      "needs_background": "light"
     },
     "output_type": "display_data"
    },
    {
     "data": {
      "image/png": "[encoded data removed]",
      "text/plain": [
       "<Figure size 432x288 with 1 Axes>"
      ]
     },
     "metadata": {
      "needs_background": "light"
     },
     "output_type": "display_data"
    },
    {
     "data": {
      "image/png": "[encoded data removed]",
      "text/plain": [
       "<Figure size 432x288 with 1 Axes>"
      ]
     },
     "metadata": {
      "needs_background": "light"
     },
     "output_type": "display_data"
    },
    {
     "data": {
      "image/png": "[encoded data removed]",
      "text/plain": [
       "<Figure size 432x288 with 1 Axes>"
      ]
     },
     "metadata": {
      "needs_background": "light"
     },
     "output_type": "display_data"
    },
    {
     "data": {
      "image/png": "[encoded data removed]",
      "text/plain": [
       "<Figure size 432x288 with 1 Axes>"
      ]
     },
     "metadata": {
      "needs_background": "light"
     },
     "output_type": "display_data"
    }
   ],
   "source": [
    "for r in np.rollaxis(generated_images[0].squeeze(-1), 2):\n",
    "    plt.imshow(r)\n",
    "    plt.axis('off')\n",
    "    plt.show()"
   ]
  },
  {
   "cell_type": "code",
   "execution_count": null,
   "metadata": {},
   "outputs": [],
   "source": []
  }
 ],
 "metadata": {
  "kernelspec": {
   "display_name": "keras_tf",
   "language": "python",
   "name": "keras_tf"
  },
  "language_info": {
   "codemirror_mode": {
    "name": "ipython",
    "version": 3
   },
   "file_extension": ".py",
   "mimetype": "text/x-python",
   "name": "python",
   "nbconvert_exporter": "python",
   "pygments_lexer": "ipython3",
   "version": "3.6.8"
  }
 },
 "nbformat": 4,
 "nbformat_minor": 2
}
